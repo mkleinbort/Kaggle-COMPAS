{
 "cells": [
  {
   "cell_type": "markdown",
   "metadata": {},
   "source": [
    "# Prep Data"
   ]
  },
  {
   "cell_type": "code",
   "execution_count": 8,
   "metadata": {},
   "outputs": [],
   "source": [
    "import pandas as pd\n",
    "\n",
    "df = (pd\n",
    "        .read_csv('https://raw.githubusercontent.com/propublica/compas-analysis/master/compas-scores-two-years-violent.csv')\n",
    "        .drop(columns=['two_year_recid.1','violent_recid'])\n",
    "     )\n",
    "\n",
    "y = df.apply(lambda row: 'No-Recidivism' if row['is_recid'] == 0 \n",
    "                    else 'Violent' if row['is_violent_recid']==0\n",
    "                    else 'Non-Violent', axis=1\n",
    "            )\n",
    "\n",
    "X = (df.drop(columns=['is_recid','is_violent_recid', 'two_year_recid',\n",
    "                      'decile_score','decile_score.1','v_decile_score','score_text','v_score_text',\n",
    "                      'compas_screening_date','c_days_from_compas','c_case_number','priors_count.1',\n",
    "                      'r_charge_desc', 'vr_charge_desc', 'vr_charge_degree', 'r_charge_degree',\n",
    "                      'vr_offense_date','r_offense_date', 'event', 'end',\n",
    "                      'r_days_from_arrest', 'r_case_number','vr_case_number',\n",
    "                         ])\n",
    "     \n",
    "    .rename(columns = {'dob':'date_of_birth','age_cat':'age_group', })\n",
    ")\n",
    "\n",
    "groups = (X\n",
    "          [['age_group', 'sex', 'race']]\n",
    "          .apply(lambda x: tuple(x), axis=1)\n",
    "          .astype('str')\n",
    "          .pipe(lambda x: x.replace(list(x.value_counts().tail(3).to_dict().keys()), 'Other'))\n",
    "         )"
   ]
  },
  {
   "cell_type": "code",
   "execution_count": 9,
   "metadata": {},
   "outputs": [],
   "source": [
    "from sklearn.model_selection import train_test_split\n",
    "\n",
    "#!mkdir train\n",
    "#!mkdir test\n",
    "\n",
    "X_train, X_test, y_train, y_test = train_test_split(X, y, test_size=0.2, stratify=groups, random_state=1)"
   ]
  },
  {
   "cell_type": "code",
   "execution_count": 10,
   "metadata": {},
   "outputs": [],
   "source": [
    "X_train.to_csv('train/X_train.csv', index=False)\n",
    "X_test.to_csv('test/X_test.csv', index=False)\n",
    "\n",
    "y_train.to_csv('train/y_train.csv', index=False)\n",
    "y_test.to_csv('test/y_test.csv', index=False)"
   ]
  },
  {
   "cell_type": "code",
   "execution_count": null,
   "metadata": {},
   "outputs": [],
   "source": []
  }
 ],
 "metadata": {
  "kernelspec": {
   "display_name": "Python 3",
   "language": "python",
   "name": "python3"
  },
  "language_info": {
   "codemirror_mode": {
    "name": "ipython",
    "version": 3
   },
   "file_extension": ".py",
   "mimetype": "text/x-python",
   "name": "python",
   "nbconvert_exporter": "python",
   "pygments_lexer": "ipython3",
   "version": "3.6.7"
  }
 },
 "nbformat": 4,
 "nbformat_minor": 2
}
